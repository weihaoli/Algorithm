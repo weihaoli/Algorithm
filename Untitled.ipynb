{
 "cells": [
  {
   "cell_type": "code",
   "execution_count": 1,
   "metadata": {
    "collapsed": false,
    "deletable": true,
    "editable": true
   },
   "outputs": [],
   "source": [
    " \n",
    "# Tree node structure\n",
    "class Node:\n",
    " \n",
    "    # Constructor of the node class for creating the node\n",
    "    def __init__(self , key):\n",
    "        self.key = key\n",
    "        self.hd  = 0\n",
    "        self.left = None\n",
    "        self.right = None\n",
    "\n",
    "        # Driver Program\n",
    "root = Node(10);\n",
    "root.left = Node(20);\n",
    "root.right = Node(30);\n",
    " \n",
    "root.left.right = Node(40);\n",
    "root.left.left = Node(50);\n",
    "root.right.left = Node(60);\n",
    "root.right.right = Node(70);\n",
    " \n",
    "root.left.left.left = Node(80);\n",
    "root.left.left.right = Node(90);\n",
    "\n",
    "root.right.left.left = Node(80);\n",
    "root.right.left.right = Node(90);\n",
    "root.right.right.left = Node(80);\n",
    "root.right.right.right = Node(90);"
   ]
  },
  {
   "cell_type": "code",
   "execution_count": 2,
   "metadata": {
    "collapsed": false,
    "deletable": true,
    "editable": true
   },
   "outputs": [],
   "source": [
    "def is_full_tree(root):\n",
    "    if root is None:\n",
    "        return True\n",
    "    if root.left == None and root.left == None:\n",
    "        return True\n",
    "    elif root.left != None and root.left != None:\n",
    "        return is_full_tree(root.left) and is_full_tree(root.right)\n",
    "    \n",
    "    return False\n",
    "    "
   ]
  },
  {
   "cell_type": "code",
   "execution_count": 7,
   "metadata": {
    "collapsed": true,
    "deletable": true,
    "editable": true
   },
   "outputs": [],
   "source": [
    "root1 = Node(20);\n",
    "root1.left = Node(8);\n",
    "root1.right = Node(22);\n",
    "\n",
    "root1.left.left = Node(5); \n",
    "root1.left.right = Node(3);\n",
    "\n",
    "root1.right.left = Node(4);\n",
    "root1.right.right = Node(25);\n",
    " \n",
    "root1.left.right.left = Node(10);\n",
    "root1.left.right.right = Node(14);\n",
    "\n"
   ]
  },
  {
   "cell_type": "code",
   "execution_count": 14,
   "metadata": {
    "collapsed": false,
    "deletable": true,
    "editable": true
   },
   "outputs": [],
   "source": [
    "def bottom_view(root1):\n",
    "    '''\n",
    "    bottom view\n",
    "    '''\n",
    "    q= []\n",
    "    m = {}\n",
    "    q.append(root1)\n",
    "    hd = root.hd\n",
    "    m[hd] = root.key\n",
    "    \n",
    "    while(len(q)!=0):\n",
    "        temp = q.pop()\n",
    "        hd = temp.hd\n",
    "        m[hd] = temp.key\n",
    "        if temp.left is not None:\n",
    "            temp.left.hd = hd-1\n",
    "            q.append(temp.left)\n",
    "            \n",
    "        if temp.right is not None:\n",
    "            temp.right.hd = hd+1\n",
    "            q.append(temp.right)\n",
    "   \n",
    "    \n",
    "    print m.sorted()\n",
    "        \n",
    "        \n",
    "    "
   ]
  },
  {
   "cell_type": "code",
   "execution_count": 15,
   "metadata": {
    "collapsed": false,
    "deletable": true,
    "editable": true
   },
   "outputs": [
    {
     "ename": "AttributeError",
     "evalue": "'dict' object has no attribute 'sorted'",
     "output_type": "error",
     "traceback": [
      "\u001b[0;31m---------------------------------------------------------------------------\u001b[0m",
      "\u001b[0;31mAttributeError\u001b[0m                            Traceback (most recent call last)",
      "\u001b[0;32m<ipython-input-15-eb918e121288>\u001b[0m in \u001b[0;36m<module>\u001b[0;34m()\u001b[0m\n\u001b[0;32m----> 1\u001b[0;31m \u001b[0mbottom_view\u001b[0m\u001b[0;34m(\u001b[0m\u001b[0mroot1\u001b[0m\u001b[0;34m)\u001b[0m\u001b[0;34m\u001b[0m\u001b[0m\n\u001b[0m",
      "\u001b[0;32m<ipython-input-14-5790083cdb85>\u001b[0m in \u001b[0;36mbottom_view\u001b[0;34m(root1)\u001b[0m\n\u001b[1;32m     22\u001b[0m \u001b[0;34m\u001b[0m\u001b[0m\n\u001b[1;32m     23\u001b[0m \u001b[0;34m\u001b[0m\u001b[0m\n\u001b[0;32m---> 24\u001b[0;31m     \u001b[0;32mprint\u001b[0m \u001b[0mm\u001b[0m\u001b[0;34m.\u001b[0m\u001b[0msorted\u001b[0m\u001b[0;34m(\u001b[0m\u001b[0;34m)\u001b[0m\u001b[0;34m\u001b[0m\u001b[0m\n\u001b[0m\u001b[1;32m     25\u001b[0m \u001b[0;34m\u001b[0m\u001b[0m\n\u001b[1;32m     26\u001b[0m \u001b[0;34m\u001b[0m\u001b[0m\n",
      "\u001b[0;31mAttributeError\u001b[0m: 'dict' object has no attribute 'sorted'"
     ]
    }
   ],
   "source": [
    "bottom_view(root1)"
   ]
  },
  {
   "cell_type": "code",
   "execution_count": null,
   "metadata": {
    "collapsed": true
   },
   "outputs": [],
   "source": [
    "#comlexity of linear regression\n",
    "#cross validation is slow why\n",
    "#why conveat dont understandde\n",
    "#trade-off bias variance\n",
    "#variance:we pick samples\n",
    "#bias:E(beta) and beta_start is not the same"
   ]
  }
 ],
 "metadata": {
  "kernelspec": {
   "display_name": "Python 2",
   "language": "python",
   "name": "python2"
  },
  "language_info": {
   "codemirror_mode": {
    "name": "ipython",
    "version": 2
   },
   "file_extension": ".py",
   "mimetype": "text/x-python",
   "name": "python",
   "nbconvert_exporter": "python",
   "pygments_lexer": "ipython2",
   "version": "2.7.12"
  }
 },
 "nbformat": 4,
 "nbformat_minor": 2
}
