{
 "cells": [
  {
   "cell_type": "markdown",
   "metadata": {
    "deletable": true,
    "editable": true
   },
   "source": [
    "* Minimum Depth of Binary Tree"
   ]
  },
  {
   "cell_type": "code",
   "execution_count": 7,
   "metadata": {
    "collapsed": false,
    "deletable": true,
    "editable": true
   },
   "outputs": [],
   "source": [
    "# Python program to find minimum depth of a given Binary Tree\n",
    " \n",
    "# Tree node\n",
    "class Node:\n",
    "    def __init__(self , key):\n",
    "        self.data = key \n",
    "        self.hd = 0\n",
    "        self.left = None\n",
    "        self.right = None\n",
    "def min_depth(root):\n",
    "    if root is None:\n",
    "        return 0\n",
    "    elif root.left is None and root.right is None:\n",
    "        return 1\n",
    "    elif root.left is None:\n",
    "        return 1+ min_depth(root.right)\n",
    "    elif root.right is None:\n",
    "        return 1+min_depth(root.left)\n",
    "    else:\n",
    "        return 1 + min(min_depth(root.left),min_depth(root.right))\n",
    "\n",
    "    #level traverses\n",
    "def min_depth1(root):\n",
    "    if root is None:\n",
    "        return 0\n",
    "    # a queue that store the notes in current level\n",
    "    q = []\n",
    "    #q.append({\"Name\":root,\"Depth\":1})\n",
    "    q.append({'Name': root , 'Depth' : 1})\n",
    "    #while we haven't checked all items in the queue\n",
    "    while(len(q) > 0):\n",
    "        item = q.pop(0)\n",
    "        name = item['Name']\n",
    "        depth = item['Depth']\n",
    "        if name.left is None and name.right is None:\n",
    "            return depth\n",
    "        if name.left is not None:\n",
    "            q.append({'Name': name.left , 'Depth' : 1 + depth})\n",
    "        if name.right is not None:\n",
    "            q.append({'Name': name.right ,'Depth' : 1 + depth})\n",
    "\n",
    "            "
   ]
  },
  {
   "cell_type": "code",
   "execution_count": 8,
   "metadata": {
    "collapsed": false,
    "deletable": true,
    "editable": true
   },
   "outputs": [
    {
     "name": "stdout",
     "output_type": "stream",
     "text": [
      "2\n",
      "2\n"
     ]
    }
   ],
   "source": [
    "# Driver Program \n",
    "root = Node(1)\n",
    "root.left = Node(2)\n",
    "root.right = Node(3)\n",
    "root.left.left = Node(4)\n",
    "root.left.right = Node(5)\n",
    "print (min_depth(root))\n",
    "print (min_depth1(root))\n",
    "#comlexity is O(n)"
   ]
  },
  {
   "cell_type": "markdown",
   "metadata": {
    "deletable": true,
    "editable": true
   },
   "source": [
    "* Find Maximum Path"
   ]
  },
  {
   "cell_type": "code",
   "execution_count": 9,
   "metadata": {
    "collapsed": true,
    "deletable": true,
    "editable": true
   },
   "outputs": [],
   "source": [
    "def find_max_path(root):\n",
    "    \n",
    "    if root is None:\n",
    "        return 0\n",
    "    l = find_max_path(root.left)\n",
    "    r = find_max_path(root.right)\n",
    "    one_side = max(max(l,r) + root.data,root.data)\n",
    "    both_side = max(root.data,l+r+root.data)\n",
    "    find_max_path.res = max(both_side,one_side)\n",
    "    return one_side\n",
    "def keep_max(root):\n",
    "    find_max_path.res = float(\"-inf\")\n",
    "    find_max_path(root)\n",
    "    return find_max_path.res\n",
    "    \n",
    "    \n",
    "    \n",
    "    "
   ]
  },
  {
   "cell_type": "code",
   "execution_count": 10,
   "metadata": {
    "collapsed": false,
    "deletable": true,
    "editable": true
   },
   "outputs": [
    {
     "name": "stdout",
     "output_type": "stream",
     "text": [
      "Max path sum is  42\n"
     ]
    }
   ],
   "source": [
    "root = Node(10)\n",
    "root.left = Node(2)\n",
    "root.right   = Node(10);\n",
    "root.left.left  = Node(20);\n",
    "root.left.right = Node(1);\n",
    "root.right.right = Node(-25);\n",
    "root.right.right.left   = Node(3);\n",
    "root.right.right.right  = Node(4);\n",
    "print(\"Max path sum is \" ,keep_max(root))"
   ]
  },
  {
   "cell_type": "markdown",
   "metadata": {
    "deletable": true,
    "editable": true
   },
   "source": [
    "#### pre-order/in-order/post-order"
   ]
  },
  {
   "cell_type": "code",
   "execution_count": 11,
   "metadata": {
    "collapsed": false,
    "deletable": true,
    "editable": true
   },
   "outputs": [],
   "source": [
    "def pre_order(root):\n",
    "    if root == None:\n",
    "        return 0\n",
    "    print(root.data)\n",
    "    pre_order(root.left)\n",
    "    pre_order(root.right)\n",
    "\n",
    "def in_order(root):\n",
    "   \n",
    "    if root == None:\n",
    "        return 0\n",
    "    in_order(root.left)\n",
    "    print(root.data)\n",
    "    in_order(root.right)\n",
    "    \n",
    "def post_order(root):\n",
    "    if root == None:\n",
    "        return 0\n",
    "    post_order(root.left)\n",
    "    post_order(root.right)\n",
    "    print(root.data)"
   ]
  },
  {
   "cell_type": "code",
   "execution_count": 12,
   "metadata": {
    "collapsed": false,
    "deletable": true,
    "editable": true
   },
   "outputs": [
    {
     "name": "stdout",
     "output_type": "stream",
     "text": [
      "20\n",
      "35\n",
      "30\n",
      "6\n",
      "80\n",
      "40\n",
      "inorder\n",
      "20\n",
      "30\n",
      "35\n",
      "40\n",
      "6\n",
      "80\n"
     ]
    }
   ],
   "source": [
    "root = Node(40)\n",
    "root.left = Node(30)\n",
    "root.right   = Node(80);\n",
    "root.right.left = Node(6)\n",
    "root.left.left  = Node(20);\n",
    "root.left.right = Node(35);\n",
    "\n",
    "\n",
    "\n",
    "post_order(root)\n",
    "print(\"inorder\")\n",
    "in_order(root)"
   ]
  },
  {
   "cell_type": "code",
   "execution_count": 13,
   "metadata": {
    "collapsed": false,
    "deletable": true,
    "editable": true
   },
   "outputs": [],
   "source": [
    "# check if a tree is pre_order binary search tree\n",
    "def check_preorder(in_put):\n",
    "    if len(in_put) <= 1:\n",
    "        return True\n",
    "    std = in_put[0]\n",
    "    \n",
    "    # find first number larger than standar\n",
    "    index = next(i for i,v in enumerate(in_put) if v >std)\n",
    "    for i in in_put[index:]:\n",
    "        if i < std:\n",
    "            return False\n",
    "    return check_preorder(in_put[1:index]) and check_preorder(in_put[index:])\n",
    "    \n",
    "def check_preorder1(input):\n",
    "    INT_MIN = -2** 32\n",
    "    root = INT_MIN\n",
    "    s = []\n",
    "    \n",
    "    for value in input:\n",
    "        if root > value:\n",
    "            return False\n",
    "        while(len(s) > 0 and s[-1] < value):\n",
    "            root = s.pop()\n",
    "        s.append(value)\n",
    "    return True"
   ]
  },
  {
   "cell_type": "code",
   "execution_count": 14,
   "metadata": {
    "collapsed": false,
    "deletable": true,
    "editable": true
   },
   "outputs": [],
   "source": [
    "def top_view(root):\n",
    "    queue = []\n",
    "    dic = {}\n",
    "    hd = 0\n",
    "    queue.append(root)\n",
    "    dic[0] = root.data\n",
    "    while(len(queue)!=0):\n",
    "        temp = queue.pop(0)\n",
    "        \n",
    "        hd = temp.hd\n",
    "        #print hd,temp.data\n",
    "        if hd not in dic:\n",
    "            dic[hd] = temp.data\n",
    "        if temp.left is not None:\n",
    "            temp.left.hd = hd -1\n",
    "            queue.append(temp.left)\n",
    "            #print \"append\",temp.left.data\n",
    "        if temp.right is not None:\n",
    "            temp.right.hd = hd +1\n",
    "            queue.append(temp.right)\n",
    "            #print \"append\",temp.right.data\n",
    "    for i in sorted(dic.items()):\n",
    "        print (i[1])\n",
    "        \n",
    "        "
   ]
  },
  {
   "cell_type": "code",
   "execution_count": 15,
   "metadata": {
    "collapsed": false,
    "deletable": true,
    "editable": true
   },
   "outputs": [
    {
     "name": "stdout",
     "output_type": "stream",
     "text": [
      "4\n",
      "2\n",
      "1\n",
      "3\n",
      "7\n"
     ]
    }
   ],
   "source": [
    "root = Node(1)\n",
    "root.left = Node(2)\n",
    "root.right = Node(3)\n",
    "root.left.left = Node(4)\n",
    "root.left.right = Node(5)\n",
    "root.right.left = Node(6)\n",
    "root.right.right= Node(7)\n",
    "\n",
    "\n",
    "top_view(root)"
   ]
  },
  {
   "cell_type": "code",
   "execution_count": 16,
   "metadata": {
    "collapsed": true
   },
   "outputs": [],
   "source": [
    "#Remove nodes on root to leaf paths of length < K\n",
    "\n",
    "# Tree node\n",
    "class Node:\n",
    "    def __init__(self , key):\n",
    "        self.data = key \n",
    "        self.pl = 0                       #path length\n",
    "        self.left = None\n",
    "        self.right = None\n",
    "        \n",
    "root = Node(1)\n",
    "root.left = Node(2)\n",
    "root.right = Node(3)\n",
    "\n",
    "root.left.left = Node(4)\n",
    "root.left.left.left = Node(7)\n",
    "root.left.left.right = Node(9)\n",
    "\n",
    "root.left.right = Node(5)\n",
    "\n",
    "\n",
    "root.right.right = Node(6)\n",
    "root.right.right.left= Node(8)"
   ]
  },
  {
   "cell_type": "code",
   "execution_count": 17,
   "metadata": {
    "collapsed": false
   },
   "outputs": [],
   "source": [
    "def update_pathlength(root,cl):           # cl:current length\n",
    "   \n",
    "    new_pl = cl +1\n",
    "    if root.left is None and root.right is None:\n",
    "        root.pl = new_pl\n",
    "        return  root.pl \n",
    "    elif  root.left is not None and root.right is not None: \n",
    "        root.pl = max( update_pathlength(root.left,new_pl), update_pathlength(root.right,new_pl))\n",
    "        return root.pl \n",
    "    elif  root.right is None and root.left is not None:\n",
    "        root.pl =  update_pathlength(root.left,new_pl)\n",
    "        return  root.pl\n",
    "    else:\n",
    "        root.pl =  update_pathlength(root.right,new_pl)\n",
    "        return  root.pl\n",
    "\n",
    "def delete_node(root,k):\n",
    "    if root:\n",
    "        \n",
    "        if root.pl < k:\n",
    "            root = None\n",
    "        if root.left is not None:\n",
    "            delete_node( root.left,k)\n",
    "        if root.right is not None:\n",
    "            delete_node( root.right,k)\n",
    "    \n",
    "\n",
    "def remove_path(root,k):\n",
    "    update_pathlength(root,0)\n",
    "    delete_node(root,k)"
   ]
  },
  {
   "cell_type": "code",
   "execution_count": 18,
   "metadata": {
    "collapsed": false
   },
   "outputs": [],
   "source": [
    "#remove_path(root,4)\n",
    "#pre_order(root)\n",
    "#print(root.left.right.pl)"
   ]
  },
  {
   "cell_type": "code",
   "execution_count": 19,
   "metadata": {
    "collapsed": false
   },
   "outputs": [],
   "source": [
    "def find_lca(root,n1,n2):\n",
    "    if root is None:\n",
    "        return None\n",
    "    \n",
    "    if root.data is n1 or root.data is n2:\n",
    "        return root\n",
    "    left_bool = find_lca(root.left,n1,n2)\n",
    "    right_bool= find_lca(root.right,n1,n2)\n",
    "    \n",
    "    if (left_bool and right_bool):\n",
    "        return root\n",
    "    return left_bool if left_bool is not None else right_bool \n",
    "    \n",
    "        \n",
    "    \n",
    "    \n",
    "    \n",
    "    \n",
    "    \n",
    "    \n",
    "    \n",
    "    \n",
    "    \n",
    "\n",
    "    "
   ]
  },
  {
   "cell_type": "code",
   "execution_count": 20,
   "metadata": {
    "collapsed": false
   },
   "outputs": [
    {
     "name": "stdout",
     "output_type": "stream",
     "text": [
      "2\n",
      "1\n",
      "1\n",
      "2\n"
     ]
    }
   ],
   "source": [
    "root = Node(1)\n",
    "root.left = Node(2)\n",
    "root.right = Node(3)\n",
    "root.left.left = Node(4)\n",
    "root.left.right = Node(5)\n",
    "root.right.left = Node(6)\n",
    "root.right.right = Node(7)\n",
    "\n",
    "print(find_lca(root, 4, 5,).data)\n",
    "print(find_lca(root, 4, 6,).data)\n",
    "print(find_lca(root, 3, 4,).data)\n",
    "print(find_lca(root, 4, 2,).data)\n"
   ]
  },
  {
   "cell_type": "code",
   "execution_count": 31,
   "metadata": {
    "collapsed": false
   },
   "outputs": [],
   "source": [
    "def pre_order_queue(root,pre_queue):\n",
    "    if root == None:\n",
    "        return 0\n",
    "    pre_queue.append(root.data)\n",
    "    pre_order_queue(root.left,pre_queue)\n",
    "    pre_order_queue(root.right,pre_queue)\n",
    "\n",
    "def in_order_queue(root,in_queue):\n",
    "   \n",
    "    if root == None:\n",
    "        return 0\n",
    "    in_order_queue(root.left,in_queue)\n",
    "    in_queue.append(root.data)\n",
    "    in_order_queue(root.right,in_queue)\n",
    "    \n",
    "def return_target_node(root,data):\n",
    "    if root == None:\n",
    "        return 0\n",
    "    if root.data == data:\n",
    "        return root\n",
    "    return return_target_node(root.left,data) or return_target_node(root.right,data)\n",
    "def is_subtree(root1,root2):\n",
    "    pre_queue1 = []\n",
    "    in_queue1 = []\n",
    "    pre_queue2 = []\n",
    "    in_queue2 = []\n",
    "    in_order_queue(root1,in_queue1)\n",
    "    pre_order_queue(root1,pre_queue1)\n",
    "    \n",
    "    root2_1 = return_target_node(root2,root1.data)\n",
    "    in_order_queue(root2_1,in_queue2)\n",
    "    pre_order_queue(root2_1,pre_queue2)   \n",
    "    \n",
    "    return in_queue1 == in_queue2 and pre_queue1 == pre_queue2\n",
    "    "
   ]
  },
  {
   "cell_type": "code",
   "execution_count": 33,
   "metadata": {
    "collapsed": false
   },
   "outputs": [
    {
     "data": {
      "text/plain": [
       "True"
      ]
     },
     "execution_count": 33,
     "metadata": {},
     "output_type": "execute_result"
    }
   ],
   "source": [
    "root1 = Node(1)\n",
    "root1.left = Node(2)\n",
    "root1.right = Node(3)\n",
    "\n",
    "root1.left.left = Node(4)\n",
    "root1.left.left.left = Node(7)\n",
    "root1.left.left.right = Node(9)\n",
    "\n",
    "root1.left.right = Node(5)\n",
    "\n",
    "\n",
    "root1.right.right = Node(6)\n",
    "root1.right.right.left= Node(8)\n",
    "\n",
    "\n",
    "\n",
    "root2 = Node(2)\n",
    "root2.left = Node(4)\n",
    "root2.right = Node(5)\n",
    "root2.left.left = Node(7)\n",
    "root2.left.right = Node(9)\n",
    "\n",
    "\n",
    "is_subtree(root2,root1)"
   ]
  },
  {
   "cell_type": "code",
   "execution_count": null,
   "metadata": {
    "collapsed": true
   },
   "outputs": [],
   "source": [
    "# Reverse alternate levels of a perfect binary tree\n",
    "\n",
    "def reverse_ alternate_level(root):\n",
    "    \n",
    "\n",
    "\n",
    "\n",
    "\n"
   ]
  }
 ],
 "metadata": {
  "kernelspec": {
   "display_name": "Python 3",
   "language": "python",
   "name": "python3"
  },
  "language_info": {
   "codemirror_mode": {
    "name": "ipython",
    "version": 3
   },
   "file_extension": ".py",
   "mimetype": "text/x-python",
   "name": "python",
   "nbconvert_exporter": "python",
   "pygments_lexer": "ipython3",
   "version": "3.6.0"
  }
 },
 "nbformat": 4,
 "nbformat_minor": 2
}
