{
 "cells": [
  {
   "cell_type": "code",
   "execution_count": 1,
   "metadata": {
    "collapsed": false,
    "deletable": true,
    "editable": true
   },
   "outputs": [],
   "source": [
    " \n",
    "# Tree node structure\n",
    "class Node:\n",
    " \n",
    "    # Constructor of the node class for creating the node\n",
    "    def __init__(self , key):\n",
    "        self.key = key\n",
    "        self.hd  = 0\n",
    "        self.left = None\n",
    "        self.right = None\n",
    "\n",
    "        # Driver Program\n",
    "root = Node(10);\n",
    "root.left = Node(20);\n",
    "root.right = Node(30);\n",
    " \n",
    "root.left.right = Node(40);\n",
    "root.left.left = Node(50);\n",
    "root.right.left = Node(60);\n",
    "root.right.right = Node(70);\n",
    " \n",
    "root.left.left.left = Node(80);\n",
    "root.left.left.right = Node(90);\n",
    "\n",
    "root.right.left.left = Node(80);\n",
    "root.right.left.right = Node(90);\n",
    "root.right.right.left = Node(80);\n",
    "root.right.right.right = Node(90);"
   ]
  },
  {
   "cell_type": "code",
   "execution_count": 2,
   "metadata": {
    "collapsed": false,
    "deletable": true,
    "editable": true
   },
   "outputs": [],
   "source": [
    "def is_full_tree(root):\n",
    "    if root is None:\n",
    "        return True\n",
    "    if root.left == None and root.left == None:\n",
    "        return True\n",
    "    elif root.left != None and root.left != None:\n",
    "        return is_full_tree(root.left) and is_full_tree(root.right)\n",
    "    \n",
    "    return False\n",
    "    "
   ]
  },
  {
   "cell_type": "code",
   "execution_count": 7,
   "metadata": {
    "collapsed": true,
    "deletable": true,
    "editable": true
   },
   "outputs": [],
   "source": [
    "root1 = Node(20);\n",
    "root1.left = Node(8);\n",
    "root1.right = Node(22);\n",
    "\n",
    "root1.left.left = Node(5); \n",
    "root1.left.right = Node(3);\n",
    "\n",
    "root1.right.left = Node(4);\n",
    "root1.right.right = Node(25);\n",
    " \n",
    "root1.left.right.left = Node(10);\n",
    "root1.left.right.right = Node(14);\n",
    "\n"
   ]
  },
  {
   "cell_type": "code",
   "execution_count": 19,
   "metadata": {
    "collapsed": false,
    "deletable": true,
    "editable": true
   },
   "outputs": [],
   "source": [
    "def bottom_view(root1):\n",
    "    '''\n",
    "    bottom view\n",
    "    '''\n",
    "    q= []\n",
    "    m = {}\n",
    "    q.append(root1)\n",
    "    hd = root.hd\n",
    "    m[hd] = root.key\n",
    "    \n",
    "    while(len(q)!=0):\n",
    "        temp = q.pop(0)\n",
    "        hd = temp.hd\n",
    "        m[hd] = temp.key\n",
    "        if temp.left is not None:\n",
    "            temp.left.hd = hd-1\n",
    "            q.append(temp.left)\n",
    "            \n",
    "        if temp.right is not None:\n",
    "            temp.right.hd = hd+1\n",
    "            q.append(temp.right)\n",
    "   \n",
    "    \n",
    "    print m\n",
    "        \n",
    "        \n",
    "    "
   ]
  },
  {
   "cell_type": "code",
   "execution_count": 20,
   "metadata": {
    "collapsed": false,
    "deletable": true,
    "editable": true
   },
   "outputs": [
    {
     "name": "stdout",
     "output_type": "stream",
     "text": [
      "{0: 4, 1: 14, 2: 25, -2: 5, -1: 10}\n"
     ]
    }
   ],
   "source": [
    "bottom_view(root1)"
   ]
  },
  {
   "cell_type": "code",
   "execution_count": 40,
   "metadata": {
    "collapsed": false
   },
   "outputs": [],
   "source": [
    "# binary search for rotated arraynar\n",
    "\n",
    "\n",
    "array = [5,6,7,8,9,10,1,2,3,4]\n",
    "\n",
    "\n",
    "def rotate_assert(key,array,from_,to_):\n",
    "    #lengh and mid point\n",
    "    \n",
    "    \n",
    "    mid = int((from_ + to_)/2)\n",
    "  \n",
    "    val_head,val_mid,val_tail = array[from_],array[mid],array[to_]\n",
    "   \n",
    "    if key == val_mid:\n",
    "        return mid\n",
    "    if from_ >= to_:\n",
    "        return \"No Founded\"\n",
    "    \n",
    "    if val_mid >= val_head:\n",
    "        \n",
    "        if val_mid > key and val_head <= key:\n",
    "            return rotate_assert(key,array,from_,mid)\n",
    "        \n",
    "        else:\n",
    "            return rotate_assert(key,array,mid+1,to_)\n",
    "        \n",
    "    if val_mid < val_head:\n",
    "      \n",
    "        if val_mid < key and val_tail >= key:\n",
    "            return rotate_assert(key,array,mid,to_)\n",
    "        \n",
    "        else:\n",
    "            return rotate_assert(key,array,from_,mid-1)\n",
    "    \n",
    "            "
   ]
  },
  {
   "cell_type": "code",
   "execution_count": 41,
   "metadata": {
    "collapsed": false
   },
   "outputs": [
    {
     "data": {
      "text/plain": [
       "5"
      ]
     },
     "execution_count": 41,
     "metadata": {},
     "output_type": "execute_result"
    }
   ],
   "source": [
    "array = [8,9,10,1,2,3,4,5,6,7]\n",
    "\n",
    "rotate_assert(3,array,0,9)"
   ]
  }
 ],
 "metadata": {
  "kernelspec": {
   "display_name": "Python 2",
   "language": "python",
   "name": "python2"
  },
  "language_info": {
   "codemirror_mode": {
    "name": "ipython",
    "version": 2
   },
   "file_extension": ".py",
   "mimetype": "text/x-python",
   "name": "python",
   "nbconvert_exporter": "python",
   "pygments_lexer": "ipython2",
   "version": "2.7.12"
  }
 },
 "nbformat": 4,
 "nbformat_minor": 2
}
