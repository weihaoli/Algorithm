{
 "cells": [
  {
   "cell_type": "code",
   "execution_count": null,
   "metadata": {
    "collapsed": true
   },
   "outputs": [],
   "source": [
    "#Search"
   ]
  },
  {
   "cell_type": "code",
   "execution_count": null,
   "metadata": {
    "collapsed": true
   },
   "outputs": [],
   "source": [
    "array = [5,6,7,8,9,10,1,2,3,4]\n",
    "\n",
    "\n",
    "def rotate_assert(key,array,from_,to_):\n",
    "    #lengh and mid point\n",
    "    \n",
    "    \n",
    "    mid = int((from_ + to_)/2)\n",
    "  \n",
    "    val_head,val_mid,val_tail = array[from_],array[mid],array[to_]\n",
    "   \n",
    "    if key == val_mid:\n",
    "        return mid\n",
    "    if from_ >= to_:\n",
    "        return \"No Founded\"\n",
    "    \n",
    "    if val_mid >= val_head:\n",
    "        \n",
    "        if val_mid > key and val_head <= key:\n",
    "            return rotate_assert(key,array,from_,mid)\n",
    "        \n",
    "        else:\n",
    "            return rotate_assert(key,array,mid+1,to_)\n",
    "        \n",
    "    if val_mid < val_head:\n",
    "      \n",
    "        if val_mid < key and val_tail >= key:\n",
    "            return rotate_assert(key,array,mid,to_)\n",
    "        \n",
    "        else:\n",
    "            return rotate_assert(key,array,from_,mid-1)\n",
    "    \n",
    "            "
   ]
  },
  {
   "cell_type": "code",
   "execution_count": null,
   "metadata": {
    "collapsed": true
   },
   "outputs": [],
   "source": [
    "array = [8,9,10,1,2,3,4,5,6,7]\n",
    "\n",
    "rotate_assert(3,array,0,9)"
   ]
  }
 ],
 "metadata": {
  "kernelspec": {
   "display_name": "Python 3",
   "language": "python",
   "name": "python3"
  },
  "language_info": {
   "codemirror_mode": {
    "name": "ipython",
    "version": 3
   },
   "file_extension": ".py",
   "mimetype": "text/x-python",
   "name": "python",
   "nbconvert_exporter": "python",
   "pygments_lexer": "ipython3",
   "version": "3.6.0"
  }
 },
 "nbformat": 4,
 "nbformat_minor": 2
}
